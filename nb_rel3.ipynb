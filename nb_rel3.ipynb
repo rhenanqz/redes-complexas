{
 "cells": [
  {
   "cell_type": "markdown",
   "metadata": {},
   "source": [
    "# SME5924 - Processos Dinâmicos em Redes Complexas (2023)\n",
    "\n",
    "### Aluno: Rhenan Gomes dos Santos Queiroz\n",
    "### NUSP: 7593499"
   ]
  },
  {
   "cell_type": "code",
   "execution_count": 1,
   "metadata": {},
   "outputs": [],
   "source": [
    "from numpy  import *\n",
    "import numpy as np\n",
    "import matplotlib.pyplot as plt\n",
    "import networkx as nx"
   ]
  },
  {
   "cell_type": "markdown",
   "metadata": {},
   "source": [
    "## Questão 1"
   ]
  },
  {
   "cell_type": "code",
   "execution_count": 2,
   "metadata": {},
   "outputs": [],
   "source": [
    "G=nx.read_edgelist(\"data/USairport500.txt\", nodetype=int)\n",
    "G = G.to_undirected()\n",
    "G.remove_edges_from(nx.selfloop_edges(G))\n",
    "Gcc = sorted(nx.connected_components(G), key=len, reverse=True)\n",
    "G = G.subgraph(Gcc[0])\n",
    "G = nx.convert_node_labels_to_integers(G, first_label=0)"
   ]
  },
  {
   "cell_type": "code",
   "execution_count": 4,
   "metadata": {},
   "outputs": [
    {
     "name": "stdout",
     "output_type": "stream",
     "text": [
      "Average eigenvector centrality 0.022754398239423664\n"
     ]
    }
   ],
   "source": [
    "EC = dict(nx.eigenvector_centrality(G, max_iter = 1000))\n",
    "EC = list(EC.values())\n",
    "av_EC = np.mean(EC)\n",
    "print('Average eigenvector centrality', av_EC)"
   ]
  },
  {
   "cell_type": "markdown",
   "metadata": {},
   "source": [
    "## Questão 2"
   ]
  },
  {
   "cell_type": "code",
   "execution_count": 7,
   "metadata": {},
   "outputs": [],
   "source": [
    "G=nx.read_edgelist(\"data/hamsterster.txt\", nodetype=int)\n",
    "G = G.to_undirected()\n",
    "G.remove_edges_from(nx.selfloop_edges(G))\n",
    "Gcc = sorted(nx.connected_components(G), key=len, reverse=True)\n",
    "G = G.subgraph(Gcc[0])\n",
    "G = nx.convert_node_labels_to_integers(G, first_label=0)"
   ]
  },
  {
   "cell_type": "code",
   "execution_count": 8,
   "metadata": {},
   "outputs": [],
   "source": [
    "# Betweenness centrality\n",
    "B = dict(nx.betweenness_centrality(G))\n",
    "B = list(B.values())"
   ]
  },
  {
   "cell_type": "code",
   "execution_count": 9,
   "metadata": {},
   "outputs": [],
   "source": [
    "#Network centrality\n",
    "vk = dict(G.degree())\n",
    "vk = list(vk.values())"
   ]
  },
  {
   "cell_type": "code",
   "execution_count": 20,
   "metadata": {},
   "outputs": [
    {
     "name": "stdout",
     "output_type": "stream",
     "text": [
      "          K         B\n",
      "K  1.000000  0.824244\n",
      "B  0.824244  1.000000\n"
     ]
    }
   ],
   "source": [
    "df = pd.DataFrame({'K':vk,'B':B})\n",
    "corr = df.corr(method='pearson')\n",
    "print(corr)"
   ]
  },
  {
   "cell_type": "markdown",
   "metadata": {},
   "source": [
    "## Questão 3"
   ]
  },
  {
   "cell_type": "code",
   "execution_count": 15,
   "metadata": {},
   "outputs": [],
   "source": [
    "G=nx.read_edgelist(\"data/jazz.txt\", nodetype=int)\n",
    "G = G.to_undirected()\n",
    "G.remove_edges_from(nx.selfloop_edges(G))\n",
    "Gcc = sorted(nx.connected_components(G), key=len, reverse=True)\n",
    "G = G.subgraph(Gcc[0])\n",
    "G = nx.convert_node_labels_to_integers(G, first_label=0)"
   ]
  },
  {
   "cell_type": "code",
   "execution_count": 16,
   "metadata": {},
   "outputs": [],
   "source": [
    "#closeness cenrality\n",
    "CLC = dict(nx.closeness_centrality(G))\n",
    "CLC = list(CLC.values())"
   ]
  },
  {
   "cell_type": "code",
   "execution_count": 18,
   "metadata": {},
   "outputs": [],
   "source": [
    "#k-core\n",
    "KC= dict(nx.core_number(G))\n",
    "KC = list(KC.values())"
   ]
  },
  {
   "cell_type": "code",
   "execution_count": 21,
   "metadata": {},
   "outputs": [
    {
     "name": "stdout",
     "output_type": "stream",
     "text": [
      "         CLC       KC\n",
      "CLC  1.00000  0.73534\n",
      "KC   0.73534  1.00000\n"
     ]
    }
   ],
   "source": [
    "df = pd.DataFrame({'CLC':CLC,'KC':KC})\n",
    "corr = df.corr(method='spearman')\n",
    "print(corr)"
   ]
  },
  {
   "attachments": {},
   "cell_type": "markdown",
   "metadata": {},
   "source": [
    "## Questão 4"
   ]
  },
  {
   "attachments": {},
   "cell_type": "markdown",
   "metadata": {},
   "source": [
    "- É calculada a partir da exponencial da matriz de transicao\n",
    "  - Random Walk acessibility\n",
    "- Considera os menores caminhos entre os pares de vertices\n",
    "  - Closeness centrality\n",
    "- É calculada a partir do espectro da matriz de adjacencia\n",
    "  - Eigenvector centrality\n",
    "- Usa os menores caminhos de modo a determinar a carga em termos de trafego de cada vertice\n",
    "  - Betweeness centrality\n",
    "- É uma medida de centralidade local, pois alguns vertices com valores altos dessa medida podem estar na borda da rede\n",
    "  - Degree centrality: porque o vertice propaga uma informacao para seus vizinhos, mas se for periferico, demora para chegar aos demasi\n",
    "- Um vertice é considerado central se estiver conectado a outros centrais. Usado em redes dirigidas\n",
    "  - Page Rank"
   ]
  },
  {
   "cell_type": "markdown",
   "metadata": {},
   "source": []
  }
 ],
 "metadata": {
  "kernelspec": {
   "display_name": "Python 3 (ipykernel)",
   "language": "python",
   "name": "python3"
  },
  "language_info": {
   "codemirror_mode": {
    "name": "ipython",
    "version": 3
   },
   "file_extension": ".py",
   "mimetype": "text/x-python",
   "name": "python",
   "nbconvert_exporter": "python",
   "pygments_lexer": "ipython3",
   "version": "3.11.3"
  },
  "vscode": {
   "interpreter": {
    "hash": "17b1be10d9adf213d72ba90be5027b9bbf092f77198be05c204cdbab14fb982d"
   }
  }
 },
 "nbformat": 4,
 "nbformat_minor": 4
}
