{
 "cells": [
  {
   "cell_type": "markdown",
   "id": "ee997304",
   "metadata": {},
   "source": [
    "# Avaliação de Redes Complexas"
   ]
  },
  {
   "cell_type": "markdown",
   "id": "c923da55",
   "metadata": {},
   "source": [
    "Nome:"
   ]
  },
  {
   "cell_type": "markdown",
   "id": "96f232ae",
   "metadata": {},
   "source": [
    "<hr>"
   ]
  },
  {
   "cell_type": "markdown",
   "id": "6d0c71c2",
   "metadata": {},
   "source": [
    "**1 -** (a) Crie o gráfo a seguir usando a biblioteca networkx e mostre o gráfo.<br>\n",
    "Link para visualizar o grafo: https://commons.wikimedia.org/wiki/File:6n-graf.png<br>"
   ]
  },
  {
   "cell_type": "code",
   "execution_count": 1,
   "id": "de715272",
   "metadata": {},
   "outputs": [],
   "source": [
    "from numpy import *\n",
    "import numpy as np\n",
    "import matplotlib.pyplot as plt\n",
    "import networkx as nx"
   ]
  },
  {
   "cell_type": "code",
   "execution_count": 2,
   "id": "629efff6-2e8c-40fa-b064-1205aa9c499e",
   "metadata": {},
   "outputs": [
    {
     "data": {
      "image/png": "[encoded data removed]",
      "text/plain": [
       "<Figure size 432x288 with 1 Axes>"
      ]
     },
     "metadata": {},
     "output_type": "display_data"
    }
   ],
   "source": [
    "G = nx.Graph()\n",
    "G.add_node('1')\n",
    "G.add_node('2')\n",
    "G.add_node('3')\n",
    "G.add_node('4')\n",
    "G.add_node('5')\n",
    "G.add_node('6')\n",
    "\n",
    "G.add_edge('1','2')\n",
    "G.add_edge('1','5')\n",
    "G.add_edge('2','3')\n",
    "G.add_edge('2','5')\n",
    "G.add_edge('3','4')\n",
    "G.add_edge('4','5')\n",
    "G.add_edge('4','6')\n",
    "\n",
    "pos=nx.spring_layout(G)\n",
    "nx.draw(G, with_labels = True, node_size=500, font_size=16, pos = pos)\n",
    "plt.show(True)"
   ]
  },
  {
   "cell_type": "markdown",
   "id": "e1943c2c",
   "metadata": {},
   "source": [
    "(b) Simule uma caminha aleatória nesse grafo e monte uma matriz onde o elemento Mij representa o número de visitas ao vértice j dado que a caminhada iniciou em i. Considere pelo menos 100 passos. Compare o número de visitas com a medida eigenvector centrality de cada vértice."
   ]
  },
  {
   "cell_type": "markdown",
   "id": "85c82a51-cb73-4ed3-9255-829ed41844fb",
   "metadata": {},
   "source": [
    "Numero de caminhadas entre i e j de tamanho T = (A_ij)ˆT, portanto elevamos A a 100:"
   ]
  },
  {
   "cell_type": "code",
   "execution_count": 4,
   "id": "4fb29a9f",
   "metadata": {},
   "outputs": [
    {
     "name": "stdout",
     "output_type": "stream",
     "text": [
      "[[4.79781551e+39 6.00871780e+39 4.28596891e+39 4.87543059e+39\n",
      "  6.17525666e+39 1.91985107e+39]\n",
      " [6.00871780e+39 7.52523522e+39 5.36768802e+39 6.10592205e+39\n",
      "  7.73380586e+39 2.40439483e+39]\n",
      " [4.28596891e+39 5.36768802e+39 3.82872799e+39 4.35530352e+39\n",
      "  5.51646037e+39 1.71503522e+39]\n",
      " [4.87543059e+39 6.10592205e+39 4.35530352e+39 4.95430153e+39\n",
      "  6.27515459e+39 1.95090869e+39]\n",
      " [6.17525666e+39 7.73380586e+39 5.51646037e+39 6.27515459e+39\n",
      "  7.94815804e+39 2.47103576e+39]\n",
      " [1.91985107e+39 2.40439483e+39 1.71503522e+39 1.95090869e+39\n",
      "  2.47103576e+39 7.68230551e+38]]\n"
     ]
    }
   ],
   "source": [
    "A = nx.to_numpy_array(G)\n",
    "A100 = np.linalg.matrix_power(A, 100)\n",
    "print(A100)"
   ]
  },
  {
   "cell_type": "markdown",
   "id": "c527665f-94b2-4e24-99d2-b3400cbd3757",
   "metadata": {},
   "source": [
    "Para comparar com a medida de eigenvector centrality, normalizamos a última coluna de A e comparamos com a medida obtida pelo pacote netowrkx:"
   ]
  },
  {
   "cell_type": "code",
   "execution_count": 14,
   "id": "75222b01-a525-496d-a9c0-0485fa857343",
   "metadata": {},
   "outputs": [
    {
     "data": {
      "text/plain": [
       "array([0.40109752, 0.50232897, 0.35830716, 0.40758612, 0.51625167,\n",
       "       0.16049962])"
      ]
     },
     "execution_count": 14,
     "metadata": {},
     "output_type": "execute_result"
    }
   ],
   "source": [
    "v = A100[:,5]\n",
    "v_norm = v / (np.linalg.norm(v) + 1e-16)\n",
    "v_norm"
   ]
  },
  {
   "cell_type": "code",
   "execution_count": 18,
   "id": "4c5339a3-562c-439f-849b-a5b0e55a6c65",
   "metadata": {},
   "outputs": [
    {
     "name": "stdout",
     "output_type": "stream",
     "text": [
      "Eigenvetor centrality: {'1': 0.40109628015120613, '2': 0.5023280877603374, '3': 0.35830784164631824, '4': 0.4075878178953184, '5': 0.516251205914231, '6': 0.16050115266283904}\n"
     ]
    }
   ],
   "source": [
    "EC = dict(nx.eigenvector_centrality(G, max_iter = 100))\n",
    "print('Eigenvetor centrality:', EC)"
   ]
  },
  {
   "cell_type": "markdown",
   "id": "a44a0802-3c39-4eeb-8c65-6ca82fa40950",
   "metadata": {},
   "source": [
    "Vemos que são equivalentes"
   ]
  },
  {
   "cell_type": "markdown",
   "id": "acf1e5bd",
   "metadata": {},
   "source": [
    "<hr>"
   ]
  },
  {
   "cell_type": "markdown",
   "id": "40f23d2e",
   "metadata": {},
   "source": [
    "**2 -** (a) Leia a rede do arquivo advogato.txt e mostre a distribuição acumulada complementar do grau, isto é, $P(K > k)$."
   ]
  },
  {
   "cell_type": "code",
   "execution_count": 2,
   "id": "f95d9534",
   "metadata": {},
   "outputs": [],
   "source": [
    "G=nx.read_edgelist(\"data-prova/advogato.txt\", nodetype=int)\n",
    "G = G.to_undirected()\n",
    "G.remove_edges_from(nx.selfloop_edges(G))\n",
    "Gcc = sorted(nx.connected_components(G), key=len, reverse=True)\n",
    "G = G.subgraph(Gcc[0])\n",
    "G = nx.convert_node_labels_to_integers(G, first_label=0)"
   ]
  },
  {
   "cell_type": "code",
   "execution_count": 3,
   "id": "e24ae611-4e00-4e50-8ef4-30d6145c3d7d",
   "metadata": {},
   "outputs": [
    {
     "data": {
      "image/png": "[encoded data removed]",
      "text/plain": [
       "<Figure size 360x360 with 1 Axes>"
      ]
     },
     "metadata": {
      "needs_background": "light"
     },
     "output_type": "display_data"
    }
   ],
   "source": [
    "def degree_acum_compl_distribution(G):\n",
    "    vk = dict(G.degree())\n",
    "    vk = [v for k,v in vk.items()]\n",
    "    vk = np.array(vk)\n",
    "    kvalues= np.arange(0,np.max(vk)+1) \n",
    "    Pk = np.zeros(np.max(vk)+1)\n",
    "    for k in vk:\n",
    "        Pk[k] = Pk[k] + 1\n",
    "    Pk = Pk/sum(Pk) \n",
    "    Pk_csum = np.cumsum(Pk)\n",
    "    Pk_csum_a = 1 - Pk_csum\n",
    "    return kvalues,Pk, Pk_csum_a\n",
    "ks, Pk, Pk_csum_a = degree_acum_compl_distribution(G)\n",
    "\n",
    "plt.figure(figsize=(5,5))\n",
    "fig = plt.subplot(1,1,1)\n",
    "fig.set_xscale('log')\n",
    "fig.set_yscale('log')\n",
    "plt.plot(ks,Pk_csum_a,'bo')\n",
    "plt.xlabel(\"k\", fontsize=10)\n",
    "plt.ylabel(\"Pa_cum(k)\", fontsize=10)\n",
    "plt.title(\"Distribuição acumulada complementar do grau \", fontsize=10)\n",
    "plt.show(True)"
   ]
  },
  {
   "cell_type": "markdown",
   "id": "43648a8a",
   "metadata": {},
   "source": [
    "(b) Mostre o gráfico de Knn(k), ou seja, o grau médio dos vizinhos dos vértices de grau k em função do grau k."
   ]
  },
  {
   "cell_type": "code",
   "execution_count": 4,
   "id": "b9342d34",
   "metadata": {},
   "outputs": [
    {
     "data": {
      "image/png": "[encoded data removed]",
      "text/plain": [
       "<Figure size 720x432 with 1 Axes>"
      ]
     },
     "metadata": {
      "needs_background": "light"
     },
     "output_type": "display_data"
    }
   ],
   "source": [
    "knn = []\n",
    "for i in G.nodes():\n",
    "    aux =  nx.average_neighbor_degree(G, nodes = [i])\n",
    "    knn.append(float(aux[i]))\n",
    "knn = np.array(knn)\n",
    "vk = dict(G.degree())\n",
    "vk = list(vk.values())\n",
    "\n",
    "knnk = list()\n",
    "ks = list()\n",
    "for k in arange(np.min(vk), np.max(vk)+1):\n",
    "    aux = vk == k\n",
    "    if(len(knn[aux]) > 0):\n",
    "        av_knn = mean(knn[aux]) \n",
    "        knnk.append(av_knn)\n",
    "        ks.append(k)\n",
    "fig= plt.figure(figsize=(10,6))\n",
    "\n",
    "plt.plot(ks, knnk, '-o', color='gray',markersize=10, linewidth=0,\n",
    "         markerfacecolor='lightgray',\n",
    "         markeredgecolor='black',\n",
    "         markeredgewidth=2)\n",
    "\n",
    "plt.ylabel(\"knn(k)\")\n",
    "plt.xlabel(\"k\")\n",
    "\n",
    "par = np.polyfit(ks, knnk, 1, full=True)\n",
    "slope=par[0][0]\n",
    "intercept=par[0][1]\n",
    "xl = [min(ks), max(ks)]\n",
    "yl = [slope*xx + intercept  for xx in xl]\n",
    "plt.plot(xl, yl, '--', linewidth=3, color='black')\n",
    "plt.xticks(fontsize=15)\n",
    "plt.yticks(fontsize=15)\n",
    "plt.show(True)"
   ]
  },
  {
   "cell_type": "markdown",
   "id": "10cf8e13",
   "metadata": {},
   "source": [
    "(c) Calcule a matriz de menores distâncias $D$ a matriz $A^n$, que presenta o número de caminhadas de comprimento $n$ entre cada par de vértices. Faça um gráfico da correlação entre $D_{ij}$ e $A_{ij}$ para diferentes valores de $n$. Ou seja, um gráfico em que o eixo x representa n e o y, a correlação entre essas duas matrizes."
   ]
  },
  {
   "cell_type": "code",
   "execution_count": 5,
   "id": "2a54178e",
   "metadata": {},
   "outputs": [],
   "source": [
    "from scipy.stats import pearsonr\n",
    "N = len(G)\n",
    "D = zeros(shape=(N,N)) # D is the matrix of distances\n",
    "vl = []\n",
    "for i in np.arange(0,N):\n",
    "    for j in np.arange(i+1, N):\n",
    "        if(i != j):\n",
    "            aux = nx.shortest_path(G,i,j)\n",
    "            dij = len(aux)-1\n",
    "            D[i][j] = dij\n",
    "            D[j][i] = dij"
   ]
  },
  {
   "cell_type": "code",
   "execution_count": 7,
   "id": "a3ee4d7a",
   "metadata": {},
   "outputs": [],
   "source": [
    "A_ = np.linalg.matrix_power(A, i)"
   ]
  },
  {
   "cell_type": "code",
   "execution_count": null,
   "id": "7cb7f8be",
   "metadata": {},
   "outputs": [],
   "source": []
  },
  {
   "cell_type": "code",
   "execution_count": 6,
   "id": "c3eb810a-9710-4599-b4d4-2bde0ae877d4",
   "metadata": {},
   "outputs": [
    {
     "name": "stdout",
     "output_type": "stream",
     "text": [
      "1\n"
     ]
    },
    {
     "ename": "ValueError",
     "evalue": "The truth value of an array with more than one element is ambiguous. Use a.any() or a.all()",
     "output_type": "error",
     "traceback": [
      "\u001b[0;31m---------------------------------------------------------------------------\u001b[0m",
      "\u001b[0;31mValueError\u001b[0m                                Traceback (most recent call last)",
      "\u001b[1;32m/Users/rhenanqueiroz/git/redes-complexas/Prova-2023.ipynb Célula 22\u001b[0m in \u001b[0;36m<cell line: 3>\u001b[0;34m()\u001b[0m\n\u001b[1;32m      <a href='vscode-notebook-cell:/Users/rhenanqueiroz/git/redes-complexas/Prova-2023.ipynb#X31sZmlsZQ%3D%3D?line=3'>4</a>\u001b[0m \u001b[39mprint\u001b[39m(i)\n\u001b[1;32m      <a href='vscode-notebook-cell:/Users/rhenanqueiroz/git/redes-complexas/Prova-2023.ipynb#X31sZmlsZQ%3D%3D?line=4'>5</a>\u001b[0m A1 \u001b[39m=\u001b[39m np\u001b[39m.\u001b[39mlinalg\u001b[39m.\u001b[39mmatrix_power(A, i)\n\u001b[0;32m----> <a href='vscode-notebook-cell:/Users/rhenanqueiroz/git/redes-complexas/Prova-2023.ipynb#X31sZmlsZQ%3D%3D?line=5'>6</a>\u001b[0m corr, _ \u001b[39m=\u001b[39m pearsonr(D, A1)\n\u001b[1;32m      <a href='vscode-notebook-cell:/Users/rhenanqueiroz/git/redes-complexas/Prova-2023.ipynb#X31sZmlsZQ%3D%3D?line=6'>7</a>\u001b[0m \u001b[39mlist\u001b[39m\u001b[39m.\u001b[39mappend((i,corr))\n",
      "File \u001b[0;32m~/opt/anaconda3/envs/py3104/lib/python3.10/site-packages/scipy/stats/_stats_py.py:4104\u001b[0m, in \u001b[0;36mpearsonr\u001b[0;34m(x, y)\u001b[0m\n\u001b[1;32m   4100\u001b[0m r \u001b[39m=\u001b[39m np\u001b[39m.\u001b[39mdot(xm\u001b[39m/\u001b[39mnormxm, ym\u001b[39m/\u001b[39mnormym)\n\u001b[1;32m   4102\u001b[0m \u001b[39m# Presumably, if abs(r) > 1, then it is only some small artifact of\u001b[39;00m\n\u001b[1;32m   4103\u001b[0m \u001b[39m# floating point arithmetic.\u001b[39;00m\n\u001b[0;32m-> 4104\u001b[0m r \u001b[39m=\u001b[39m \u001b[39mmax\u001b[39m(\u001b[39mmin\u001b[39;49m(r, \u001b[39m1.0\u001b[39;49m), \u001b[39m-\u001b[39m\u001b[39m1.0\u001b[39m)\n\u001b[1;32m   4106\u001b[0m \u001b[39m# As explained in the docstring, the p-value can be computed as\u001b[39;00m\n\u001b[1;32m   4107\u001b[0m \u001b[39m#     p = 2*dist.cdf(-abs(r))\u001b[39;00m\n\u001b[1;32m   4108\u001b[0m \u001b[39m# where dist is the beta distribution on [-1, 1] with shape parameters\u001b[39;00m\n\u001b[0;32m   (...)\u001b[0m\n\u001b[1;32m   4112\u001b[0m \u001b[39m# becomes x = (-abs(r) + 1)/2 = 0.5*(1 - abs(r)).  (r is cast to float64\u001b[39;00m\n\u001b[1;32m   4113\u001b[0m \u001b[39m# to avoid a TypeError raised by btdtr when r is higher precision.)\u001b[39;00m\n\u001b[1;32m   4114\u001b[0m ab \u001b[39m=\u001b[39m n\u001b[39m/\u001b[39m\u001b[39m2\u001b[39m \u001b[39m-\u001b[39m \u001b[39m1\u001b[39m\n",
      "\u001b[0;31mValueError\u001b[0m: The truth value of an array with more than one element is ambiguous. Use a.any() or a.all()"
     ]
    }
   ],
   "source": [
    "A = nx.to_numpy_array(G)\n",
    "list = []\n",
    "for i in range(1,20):\n",
    "    print(i)\n",
    "    A1 = np.linalg.matrix_power(A, i)\n",
    "    corr, _ = pearsonr(D, A1)\n",
    "    list.append((i,corr))"
   ]
  },
  {
   "cell_type": "code",
   "execution_count": null,
   "id": "9b5e2454-d9f9-4f75-808b-362cd29722a0",
   "metadata": {},
   "outputs": [
    {
     "data": {
      "image/png": "[encoded data removed]",
      "text/plain": [
       "<Figure size 640x480 with 1 Axes>"
      ]
     },
     "metadata": {},
     "output_type": "display_data"
    }
   ],
   "source": [
    "x_val = [x[0] for x in list]\n",
    "y_val = [x[1] for x in list]\n",
    "\n",
    "plt.plot(x_val,y_val)\n",
    "plt.plot(x_val,y_val,'or')\n",
    "plt.show()"
   ]
  },
  {
   "cell_type": "markdown",
   "id": "699295a2",
   "metadata": {},
   "source": [
    "<hr>"
   ]
  },
  {
   "cell_type": "markdown",
   "id": "146d7e5f",
   "metadata": {},
   "source": [
    "**3 -** Considere a rede do arquivo internet_routers-22july06.gml. Escreva um código que calcule as seguintes medidas: (a) grau médio, (b) transitividade, (c) segundo momento da distribuição do grau, (d) entropia de Shannon da distribuição do grau, (e) coeficiente de assortatividade. Considere apenas o maior componente. Armazene os valoes em uma lista e imprima essa lista, indicando os valores de cada medida. "
   ]
  },
  {
   "cell_type": "code",
   "execution_count": 11,
   "id": "27b1de14",
   "metadata": {},
   "outputs": [],
   "source": [
    "G=nx.read_gml(\"data-prova/internet_routers-22july06.gml\")\n",
    "G = G.to_undirected()\n",
    "G.remove_edges_from(nx.selfloop_edges(G))\n",
    "Gcc = sorted(nx.connected_components(G), key=len, reverse=True)\n",
    "G = G.subgraph(Gcc[0])\n",
    "G = nx.convert_node_labels_to_integers(G, first_label=0)"
   ]
  },
  {
   "cell_type": "code",
   "execution_count": 12,
   "id": "3428c2d7-434c-4c64-b2e2-f1e72bd5d327",
   "metadata": {},
   "outputs": [
    {
     "name": "stdout",
     "output_type": "stream",
     "text": [
      "Grau médio =  4.2186\n",
      "Transitividade =  0.0111\n",
      "Segundo Momento da distr. =  1103.0002\n",
      "Entropia de Shannon =  2.3658\n",
      "Assortatividade =  -0.1984\n"
     ]
    }
   ],
   "source": [
    "def momment(G,m):\n",
    "    M = 0\n",
    "    N = len(G)\n",
    "    for i in G.nodes:\n",
    "        M = M + G.degree(i)**m\n",
    "    M = M/N\n",
    "    return M\n",
    "\n",
    "def shannon_entropy(G):\n",
    "    _, Pk, _ = degree_acum_compl_distribution(G)\n",
    "    H = 0\n",
    "    for p in Pk:\n",
    "        if(p > 0):\n",
    "            H = H - p*math.log(p, 2)\n",
    "    return H\n",
    "    \n",
    "def medidas(G):\n",
    "    avg_degree = momment(G,1)\n",
    "    transitivity = (nx.transitivity(G)) \n",
    "    seg_momento = momment(G,2)\n",
    "    shannon = shannon_entropy(G)\n",
    "    assortativity = nx.degree_assortativity_coefficient(G)\n",
    "\n",
    "    H = [avg_degree, transitivity, seg_momento,shannon, assortativity]\n",
    "    print(\"Grau médio = \", \"%3.4f\"%H[0])\n",
    "    print(\"Transitividade = \", \"%3.4f\"%H[1])\n",
    "    print(\"Segundo Momento da distr. = \", \"%3.4f\"%H[2])\n",
    "    print(\"Entropia de Shannon = \", \"%3.4f\"%H[3])\n",
    "    print(\"Assortatividade = \", \"%3.4f\"%H[4])\n",
    "medidas(G)"
   ]
  },
  {
   "cell_type": "markdown",
   "id": "517f2fba",
   "metadata": {},
   "source": [
    "<hr>"
   ]
  },
  {
   "cell_type": "markdown",
   "id": "5b3bbdeb",
   "metadata": {},
   "source": [
    "**4 -** Simule o modelo de propagação de epidemias SIR na rede de aeroportos dos EUA (USairport_2010.txt). Calcule a correlação de Pearson entre a fração final de recuperados e as seguintes medidas de centralidade: (a) grau, (b) betweenness centrality, (c) eigenvector centrality, (d) closenness centrality. Mostre os resultados e indique a maior correlação. Considere $\\beta = 0.6$ e $\\mu = 0.1$ no modelo SIR."
   ]
  },
  {
   "cell_type": "code",
   "execution_count": 53,
   "id": "b3e940ac",
   "metadata": {},
   "outputs": [],
   "source": [
    "G=nx.read_edgelist(\"data-prova/USairport_2010.txt\", nodetype=int)\n",
    "G.remove_edges_from(nx.selfloop_edges(G))\n",
    "Gcc = sorted(nx.connected_components(G), key=len, reverse=True)\n",
    "G = G.subgraph(Gcc[0])\n",
    "G = nx.convert_node_labels_to_integers(G, first_label=0)"
   ]
  },
  {
   "cell_type": "code",
   "execution_count": 54,
   "id": "76a98d48-642d-4fcc-afc1-6971c650a030",
   "metadata": {},
   "outputs": [],
   "source": [
    "# function to simulate the SIR dynamics starting from a single seed node\n",
    "def SIR_single_seed(G, seed, beta=0.3, mu=1):    \n",
    "    def find(v, i): # function to find the positions of element i in vector v\n",
    "        l = []\n",
    "        pos = 0\n",
    "        for x in v:\n",
    "            if(x == i):\n",
    "                l.append(pos)\n",
    "            pos = pos + 1\n",
    "        return l\n",
    "\n",
    "    #Reactive process: SIR dynamics\n",
    "    seed_node = seed; # seed node\n",
    "    vector_states = np.zeros(N) # vector that stores the states of the vertices\n",
    "    vector_states[seed_node] = 1 # vector that stores the states\n",
    "    ninfected = 1\n",
    "    t = 0 # start in t= 0 \n",
    "    infected = list() # this list stores the infected nodes at each step\n",
    "    vt = list() # this list stores the time step\n",
    "    vI = list() # this list stores the fraction of infected nodes\n",
    "    vR = list() # this list stores the fraction of recovered nodes\n",
    "    vS = list() # this list stores the fraction of susceptible nodes\n",
    "    # Reactive model simulation\n",
    "    while ninfected > 0: # Simulate while we can find infected nodes\n",
    "        infected = find(vector_states,1) # list of infected nodes\n",
    "        for i in infected: # try to infect the neighbors\n",
    "            neigs = G.neighbors(i)\n",
    "            for j in neigs:\n",
    "                if np.random.rand() < beta:\n",
    "                    if(vector_states[j] != 2): # verify if the node is not recovered\n",
    "                        vector_states[j] = 1\n",
    "        for k in infected: # try to recover the infected nodes\n",
    "            if np.random.rand() < mu:\n",
    "                vector_states[k] = 2\n",
    "        ninfected = len(find(vector_states,1))\n",
    "        vI.append(ninfected/N)\n",
    "        vR.append(len(find(vector_states,2))/N)\n",
    "        vS.append(len(find(vector_states,0))/N)\n",
    "        t = t + 1\n",
    "        vt.append(t)\n",
    "    return vI, vS, vR, vt"
   ]
  },
  {
   "cell_type": "code",
   "execution_count": 55,
   "id": "1e633a35-afbb-4676-a753-ee7b8c35c297",
   "metadata": {},
   "outputs": [
    {
     "ename": "TypeError",
     "evalue": "'list' object is not callable",
     "output_type": "error",
     "traceback": [
      "\u001b[0;31m---------------------------------------------------------------------------\u001b[0m",
      "\u001b[0;31mTypeError\u001b[0m                                 Traceback (most recent call last)",
      "Cell \u001b[0;32mIn[55], line 7\u001b[0m\n\u001b[1;32m      4\u001b[0m seed \u001b[38;5;241m=\u001b[39m \u001b[38;5;241m0\u001b[39m\n\u001b[1;32m      5\u001b[0m N \u001b[38;5;241m=\u001b[39m \u001b[38;5;28mlen\u001b[39m(G) \u001b[38;5;66;03m# Number of nodes\u001b[39;00m\n\u001b[0;32m----> 7\u001b[0m vI, vS, vR, vt \u001b[38;5;241m=\u001b[39m \u001b[43mSIR_single_seed\u001b[49m\u001b[43m(\u001b[49m\u001b[43mG\u001b[49m\u001b[43m,\u001b[49m\u001b[43m \u001b[49m\u001b[43mseed\u001b[49m\u001b[43m,\u001b[49m\u001b[43m \u001b[49m\u001b[43mbeta\u001b[49m\u001b[43m,\u001b[49m\u001b[43m \u001b[49m\u001b[43mmu\u001b[49m\u001b[43m)\u001b[49m\n\u001b[1;32m      9\u001b[0m plt\u001b[38;5;241m.\u001b[39mfigure(figsize\u001b[38;5;241m=\u001b[39m(\u001b[38;5;241m10\u001b[39m,\u001b[38;5;241m5\u001b[39m))\n\u001b[1;32m     10\u001b[0m plt\u001b[38;5;241m.\u001b[39mplot(vt, vI, \u001b[38;5;124m'\u001b[39m\u001b[38;5;124mro--\u001b[39m\u001b[38;5;124m'\u001b[39m, label\u001b[38;5;241m=\u001b[39m\u001b[38;5;124m'\u001b[39m\u001b[38;5;124mInfected\u001b[39m\u001b[38;5;124m'\u001b[39m)\n",
      "Cell \u001b[0;32mIn[54], line 18\u001b[0m, in \u001b[0;36mSIR_single_seed\u001b[0;34m(G, seed, beta, mu)\u001b[0m\n\u001b[1;32m     16\u001b[0m ninfected \u001b[38;5;241m=\u001b[39m \u001b[38;5;241m1\u001b[39m\n\u001b[1;32m     17\u001b[0m t \u001b[38;5;241m=\u001b[39m \u001b[38;5;241m0\u001b[39m \u001b[38;5;66;03m# start in t= 0 \u001b[39;00m\n\u001b[0;32m---> 18\u001b[0m infected \u001b[38;5;241m=\u001b[39m \u001b[38;5;28;43mlist\u001b[39;49m\u001b[43m(\u001b[49m\u001b[43m)\u001b[49m \u001b[38;5;66;03m# this list stores the infected nodes at each step\u001b[39;00m\n\u001b[1;32m     19\u001b[0m vt \u001b[38;5;241m=\u001b[39m \u001b[38;5;28mlist\u001b[39m() \u001b[38;5;66;03m# this list stores the time step\u001b[39;00m\n\u001b[1;32m     20\u001b[0m vI \u001b[38;5;241m=\u001b[39m \u001b[38;5;28mlist\u001b[39m() \u001b[38;5;66;03m# this list stores the fraction of infected nodes\u001b[39;00m\n",
      "\u001b[0;31mTypeError\u001b[0m: 'list' object is not callable"
     ]
    }
   ],
   "source": [
    "# Epidemic parameters\n",
    "beta = 0.6 # Probability of infection\n",
    "mu = 0.1  # Probability of recovering\n",
    "seed = 0\n",
    "N = len(G) # Number of nodes\n",
    "\n",
    "vI, vS, vR, vt = SIR_single_seed(G, seed, beta, mu)\n",
    "    \n",
    "plt.figure(figsize=(10,5))\n",
    "plt.plot(vt, vI, 'ro--', label='Infected')\n",
    "plt.plot(vt, vR, 'bo--', label='Recovered')\n",
    "plt.plot(vt, vS, 'go--', label='Susceptible')\n",
    "plt.xlabel(\"t\", fontsize=15)\n",
    "plt.ylabel(\"Fraction of nodes\", fontsize=15)\n",
    "plt.legend()\n",
    "plt.grid(True)\n",
    "plt.show(True)"
   ]
  },
  {
   "cell_type": "code",
   "execution_count": null,
   "id": "cc87fc60-45cf-44d2-8d48-64bbff1bf8b3",
   "metadata": {},
   "outputs": [],
   "source": []
  },
  {
   "cell_type": "code",
   "execution_count": 14,
   "id": "7bb89613-7bad-4af4-832c-07da822abbfa",
   "metadata": {},
   "outputs": [],
   "source": [
    "B = dict(nx.betweenness_centrality(G))\n",
    "B = list(B.values())\n",
    "vk = dict(G.degree())\n",
    "vk = list(vk.values())"
   ]
  },
  {
   "cell_type": "code",
   "execution_count": null,
   "id": "5bc3d8e7-af1e-4b18-9dc7-b3c80d2d26db",
   "metadata": {},
   "outputs": [],
   "source": [
    "df = pd.DataFrame({'K':vk,'B':B})\n",
    "corr = df.corr(method='pearson')\n",
    "print(corr)"
   ]
  },
  {
   "cell_type": "code",
   "execution_count": 17,
   "id": "15c0a60f-d590-4d55-a954-548b14986b68",
   "metadata": {},
   "outputs": [
    {
     "data": {
      "text/plain": [
       "1572"
      ]
     },
     "execution_count": 17,
     "metadata": {},
     "output_type": "execute_result"
    }
   ],
   "source": [
    "len(vk)"
   ]
  },
  {
   "cell_type": "code",
   "execution_count": 16,
   "id": "d94ebfb0-f561-47ea-ad36-4d098cf1306a",
   "metadata": {},
   "outputs": [
    {
     "data": {
      "text/plain": [
       "1572"
      ]
     },
     "execution_count": 16,
     "metadata": {},
     "output_type": "execute_result"
    }
   ],
   "source": [
    "len(B)"
   ]
  },
  {
   "cell_type": "markdown",
   "id": "69dd4700",
   "metadata": {},
   "source": [
    "<hr>"
   ]
  },
  {
   "cell_type": "markdown",
   "id": "0d2c1b80",
   "metadata": {},
   "source": [
    "**5 -** Gere redes do tipo BA, ER e WS (p=0.05) com grau médio igual a 10 e N = 500. Desenvolva um estudo para mostrar que essas apresentam topologias diferentes. (Seja criativ@)."
   ]
  },
  {
   "cell_type": "code",
   "execution_count": 8,
   "id": "0abfa38f",
   "metadata": {},
   "outputs": [],
   "source": [
    "N = 500\n",
    "av_degree = 10\n",
    "m = int(av_degree/2)\n",
    "GBA = nx.barabasi_albert_graph(N, m)\n",
    "\n",
    "p = av_degree/(N-1)\n",
    "GER = nx.gnp_random_graph(N, p, seed=None, directed=False)\n",
    "\n",
    "p = 0.05\n",
    "GWS = nx.watts_strogatz_graph(N, av_degree, p, seed=None)"
   ]
  },
  {
   "cell_type": "code",
   "execution_count": 13,
   "id": "46299bd3",
   "metadata": {},
   "outputs": [
    {
     "name": "stdout",
     "output_type": "stream",
     "text": [
      "GBA\n",
      "Grau médio =  9.9000\n",
      "Transitividade =  0.0503\n",
      "Segundo Momento da distr. =  178.3240\n",
      "Entropia de Shannon =  3.5902\n",
      "Assortatividade =  -0.0721\n",
      "------\n",
      "GER\n",
      "Grau médio =  9.8040\n",
      "Transitividade =  0.0185\n",
      "Segundo Momento da distr. =  104.9720\n",
      "Entropia de Shannon =  3.5882\n",
      "Assortatividade =  -0.0066\n",
      "------\n",
      "GWS\n",
      "Grau médio =  10.0000\n",
      "Transitividade =  0.5747\n",
      "Segundo Momento da distr. =  100.4680\n",
      "Entropia de Shannon =  1.4294\n",
      "Assortatividade =  0.0112\n"
     ]
    }
   ],
   "source": [
    "print(\"GBA\")\n",
    "medidas(GBA)\n",
    "print(\"------\")\n",
    "print(\"GER\")\n",
    "medidas(GER)\n",
    "print(\"------\")\n",
    "print(\"GWS\")\n",
    "medidas(GWS)"
   ]
  },
  {
   "cell_type": "code",
   "execution_count": null,
   "id": "ae539fef",
   "metadata": {},
   "outputs": [],
   "source": []
  }
 ],
 "metadata": {
  "kernelspec": {
   "display_name": "Python 3 (ipykernel)",
   "language": "python",
   "name": "python3"
  },
  "language_info": {
   "codemirror_mode": {
    "name": "ipython",
    "version": 3
   },
   "file_extension": ".py",
   "mimetype": "text/x-python",
   "name": "python",
   "nbconvert_exporter": "python",
   "pygments_lexer": "ipython3",
   "version": "3.10.4"
  }
 },
 "nbformat": 4,
 "nbformat_minor": 5
}
