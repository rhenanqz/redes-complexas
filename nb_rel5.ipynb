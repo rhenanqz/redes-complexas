{
 "cells": [
  {
   "cell_type": "markdown",
   "metadata": {},
   "source": [
    "# SME5924 - Processos Dinâmicos em Redes Complexas (2023)\n",
    "\n",
    "### Aluno: Rhenan Gomes dos Santos Queiroz\n",
    "### NUSP: 7593499"
   ]
  },
  {
   "cell_type": "code",
   "execution_count": 2,
   "metadata": {},
   "outputs": [],
   "source": [
    "from numpy  import *\n",
    "import numpy as np\n",
    "import matplotlib.pyplot as plt\n",
    "import networkx as nx"
   ]
  },
  {
   "cell_type": "markdown",
   "metadata": {},
   "source": [
    "## Questão 1"
   ]
  },
  {
   "cell_type": "code",
   "execution_count": 6,
   "metadata": {},
   "outputs": [
    {
     "name": "stdout",
     "output_type": "stream",
     "text": [
      "Average degre: 99.792\n"
     ]
    }
   ],
   "source": [
    "N = 1000\n",
    "p = 0.1\n",
    "\n",
    "GER = nx.gnp_random_graph(N, p, seed=None, directed=False)\n",
    "N = len(GER)\n",
    "M = GER.number_of_edges()\n",
    "print('Average degre:', 2*M/N)\n"
   ]
  },
  {
   "cell_type": "code",
   "execution_count": 7,
   "metadata": {},
   "outputs": [
    {
     "name": "stdout",
     "output_type": "stream",
     "text": [
      "Second momment of P(k): 10047.268\n"
     ]
    }
   ],
   "source": [
    "def degree_distribution(GER):\n",
    "    vk = dict(GER.degree())\n",
    "    vk = list(vk.values()) # we get only the degree values\n",
    "    maxk = np.max(vk)\n",
    "    mink = np.min(min)\n",
    "    kvalues= arange(0,maxk+1) # possible values of k\n",
    "    Pk = np.zeros(maxk+1) # P(k)\n",
    "    for k in vk:\n",
    "        Pk[k] = Pk[k] + 1\n",
    "    Pk = Pk/sum(Pk) # the sum of the elements of P(k) must to be equal to one\n",
    "    return kvalues,Pk\n",
    "\n",
    "def momment_of_degree_distribution(G,m):\n",
    "    k,Pk = degree_distribution(G)\n",
    "    M = sum((k**m)*Pk)\n",
    "    return M\n",
    "k2 = momment_of_degree_distribution(GER,2)\n",
    "print('Second momment of P(k):', k2)"
   ]
  },
  {
   "cell_type": "code",
   "execution_count": 8,
   "metadata": {},
   "outputs": [
    {
     "name": "stdout",
     "output_type": "stream",
     "text": [
      "Average clustering: 0.1002 |p =  0.1\n"
     ]
    }
   ],
   "source": [
    "avc = nx.average_clustering(GER)\n",
    "print(\"Average clustering:\", \"%3.4f\"%avc, '|p = ', p)"
   ]
  },
  {
   "cell_type": "markdown",
   "metadata": {},
   "source": [
    "## Questão 2"
   ]
  },
  {
   "cell_type": "code",
   "execution_count": 37,
   "metadata": {},
   "outputs": [
    {
     "name": "stdout",
     "output_type": "stream",
     "text": [
      "Second momment of P(k): 101.05999999999999\n",
      "Average clustering: 0.4881 |p =  0.1\n"
     ]
    }
   ],
   "source": [
    "N = 1000\n",
    "av_degree = 10\n",
    "k = int(av_degree/2)\n",
    "p = 0.1 \n",
    "GWS = nx.watts_strogatz_graph(N, av_degree, p, seed=None)\n",
    "\n",
    "k2 = momment_of_degree_distribution(GWS,2)\n",
    "print('Second momment of P(k):', k2)\n",
    "\n",
    "avc = nx.average_clustering(GWS)\n",
    "print(\"Average clustering:\", \"%3.4f\"%avc, '|p = ', p)"
   ]
  },
  {
   "cell_type": "markdown",
   "metadata": {},
   "source": [
    "## Questão 3"
   ]
  },
  {
   "cell_type": "code",
   "execution_count": 13,
   "metadata": {},
   "outputs": [
    {
     "name": "stdout",
     "output_type": "stream",
     "text": [
      "Shannon Entropy =  3.1610\n",
      "Shannon Entropy =  3.6864\n",
      "Shannon Entropy =  4.7775\n"
     ]
    }
   ],
   "source": [
    "\n",
    "\n",
    "def shannon_entropy(G):\n",
    "    k,Pk = degree_distribution(G)\n",
    "    H = 0\n",
    "    for p in Pk:\n",
    "        if(p > 0):\n",
    "            H = H - p*math.log(p, 2)\n",
    "    return H\n",
    "\n",
    "N = 1000\n",
    "av_degree = 5\n",
    "p = av_degree/(N-1)\n",
    "GER = nx.gnp_random_graph(N, p, seed=None, directed=False)\n",
    "H = shannon_entropy(GER)\n",
    "print(\"Shannon Entropy = \", \"%3.4f\"%H)\n",
    "\n",
    "N = 1000\n",
    "av_degree = 10\n",
    "p = av_degree/(N-1)\n",
    "GER = nx.gnp_random_graph(N, p, seed=None, directed=False)\n",
    "H = shannon_entropy(GER)\n",
    "print(\"Shannon Entropy = \", \"%3.4f\"%H)\n",
    "\n",
    "N = 1000\n",
    "av_degree = 50\n",
    "p = av_degree/(N-1)\n",
    "GER = nx.gnp_random_graph(N, p, seed=None, directed=False)\n",
    "H = shannon_entropy(GER)\n",
    "print(\"Shannon Entropy = \", \"%3.4f\"%H)"
   ]
  },
  {
   "attachments": {},
   "cell_type": "markdown",
   "metadata": {},
   "source": [
    "## Questão 4"
   ]
  },
  {
   "cell_type": "code",
   "execution_count": 22,
   "metadata": {},
   "outputs": [
    {
     "name": "stdout",
     "output_type": "stream",
     "text": [
      "Average shortest path length: 12.8788\n",
      "Average shortest path length: 10.4648\n",
      "Average shortest path length: 6.3848\n",
      "Average shortest path length: 5.8745\n"
     ]
    }
   ],
   "source": [
    "N = 100\n",
    "av_degree = 8\n",
    "k = int(av_degree/2)\n",
    "\n",
    "p = 0\n",
    "GWS = nx.watts_strogatz_graph(N, k, p, seed=None)\n",
    "l = nx.average_shortest_path_length(GWS)\n",
    "print(\"Average shortest path length:\", \"%3.4f\"%l)\n",
    "\n",
    "p = 0.01 \n",
    "GWS = nx.watts_strogatz_graph(N, k, p, seed=None)\n",
    "l = nx.average_shortest_path_length(GWS)\n",
    "print(\"Average shortest path length:\", \"%3.4f\"%l)\n",
    "\n",
    "p = 0.05\n",
    "GWS = nx.watts_strogatz_graph(N, k, p, seed=None)\n",
    "l = nx.average_shortest_path_length(GWS)\n",
    "print(\"Average shortest path length:\", \"%3.4f\"%l)\n",
    "\n",
    "p = 0.1 \n",
    "GWS = nx.watts_strogatz_graph(N, k, p, seed=None)\n",
    "l = nx.average_shortest_path_length(GWS)\n",
    "print(\"Average shortest path length:\", \"%3.4f\"%l)\n"
   ]
  },
  {
   "cell_type": "markdown",
   "metadata": {},
   "source": [
    "## Questão 5"
   ]
  },
  {
   "cell_type": "code",
   "execution_count": 31,
   "metadata": {},
   "outputs": [
    {
     "name": "stdout",
     "output_type": "stream",
     "text": [
      "Assortativity =  0.0022\n",
      "Assortativity =  -0.0135\n",
      "Assortativity =  0.0049\n"
     ]
    }
   ],
   "source": [
    "N = 1000\n",
    "av_degree = 5\n",
    "p = av_degree/(N-1)\n",
    "GER = nx.gnp_random_graph(N, p, seed=None, directed=False)\n",
    "r=nx.degree_assortativity_coefficient(GER)\n",
    "print(\"Assortativity = \",\"%3.4f\"%r)\n",
    "\n",
    "av_degree = 10\n",
    "p = av_degree/(N-1)\n",
    "GER = nx.gnp_random_graph(N, p, seed=None, directed=False)\n",
    "r=nx.degree_assortativity_coefficient(GER)\n",
    "print(\"Assortativity = \",\"%3.4f\"%r)\n",
    "\n",
    "av_degree = 50\n",
    "p = av_degree/(N-1)\n",
    "GER = nx.gnp_random_graph(N, p, seed=None, directed=False)\n",
    "r=nx.degree_assortativity_coefficient(GER)\n",
    "print(\"Assortativity = \",\"%3.4f\"%r)"
   ]
  },
  {
   "cell_type": "markdown",
   "metadata": {},
   "source": [
    "## Questão 6"
   ]
  },
  {
   "cell_type": "code",
   "execution_count": 32,
   "metadata": {},
   "outputs": [
    {
     "name": "stdout",
     "output_type": "stream",
     "text": [
      "Assortativity =  0.0451\n",
      "Assortativity =  0.0031\n",
      "Assortativity =  -0.0644\n"
     ]
    }
   ],
   "source": [
    "N = 1000\n",
    "av_degree = 10\n",
    "k = int(av_degree/2)\n",
    "\n",
    "p = 0.01\n",
    "GWS = nx.watts_strogatz_graph(N, k, p, seed=None)\n",
    "r=nx.degree_assortativity_coefficient(GWS)\n",
    "print(\"Assortativity = \",\"%3.4f\"%r)\n",
    "\n",
    "p = 0.05\n",
    "GWS = nx.watts_strogatz_graph(N, k, p, seed=None)\n",
    "r=nx.degree_assortativity_coefficient(GWS)\n",
    "print(\"Assortativity = \",\"%3.4f\"%r)\n",
    "\n",
    "p = 0.2\n",
    "GWS = nx.watts_strogatz_graph(N, k, p, seed=None)\n",
    "r=nx.degree_assortativity_coefficient(GWS)\n",
    "print(\"Assortativity = \",\"%3.4f\"%r)"
   ]
  }
 ],
 "metadata": {
  "kernelspec": {
   "display_name": "py3104",
   "language": "python",
   "name": "python3"
  },
  "language_info": {
   "codemirror_mode": {
    "name": "ipython",
    "version": 3
   },
   "file_extension": ".py",
   "mimetype": "text/x-python",
   "name": "python",
   "nbconvert_exporter": "python",
   "pygments_lexer": "ipython3",
   "version": "3.10.4"
  },
  "orig_nbformat": 4,
  "vscode": {
   "interpreter": {
    "hash": "17b1be10d9adf213d72ba90be5027b9bbf092f77198be05c204cdbab14fb982d"
   }
  }
 },
 "nbformat": 4,
 "nbformat_minor": 2
}
