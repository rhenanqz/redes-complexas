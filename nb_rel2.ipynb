{
 "cells": [
  {
   "cell_type": "markdown",
   "metadata": {},
   "source": [
    "# SME5924 - Processos Dinâmicos em Redes Complexas (2023)\n",
    "\n",
    "### Aluno: Rhenan Gomes dos Santos Queiroz\n",
    "### NUSP: 7593499"
   ]
  },
  {
   "cell_type": "code",
   "execution_count": 1,
   "metadata": {},
   "outputs": [],
   "source": [
    "from numpy  import *\n",
    "import numpy as np\n",
    "import matplotlib.pyplot as plt\n",
    "import networkx as nx"
   ]
  },
  {
   "cell_type": "markdown",
   "metadata": {},
   "source": [
    "## Questão 1"
   ]
  },
  {
   "cell_type": "code",
   "execution_count": 2,
   "metadata": {},
   "outputs": [],
   "source": [
    "G=nx.read_edgelist(\"data/hamsterster.txt\", nodetype=int)"
   ]
  },
  {
   "cell_type": "code",
   "execution_count": 3,
   "metadata": {},
   "outputs": [],
   "source": [
    "G = G.to_undirected()\n",
    "G.remove_edges_from(nx.selfloop_edges(G))\n",
    "Gcc = sorted(nx.connected_components(G), key=len, reverse=True)\n",
    "G = G.subgraph(Gcc[0])\n",
    "G = nx.convert_node_labels_to_integers(G, first_label=0)"
   ]
  },
  {
   "cell_type": "code",
   "execution_count": 4,
   "metadata": {},
   "outputs": [
    {
     "name": "stdout",
     "output_type": "stream",
     "text": [
      "Average shortest path length: 3.4526\n"
     ]
    }
   ],
   "source": [
    "if nx.is_connected(G) == True:\n",
    "    l = nx.average_shortest_path_length(G)\n",
    "    print(\"Average shortest path length:\", \"%3.4f\"%l)\n",
    "else:\n",
    "    print(\"The graph has more than one connected component\")"
   ]
  },
  {
   "cell_type": "code",
   "execution_count": 5,
   "metadata": {},
   "outputs": [
    {
     "name": "stdout",
     "output_type": "stream",
     "text": [
      "Network diameter: 14\n"
     ]
    }
   ],
   "source": [
    "d = nx.diameter(G)\n",
    "print('Network diameter:', d)"
   ]
  },
  {
   "cell_type": "markdown",
   "metadata": {},
   "source": [
    "### Questão 2"
   ]
  },
  {
   "cell_type": "code",
   "execution_count": 75,
   "metadata": {},
   "outputs": [],
   "source": [
    "G=nx.read_edgelist(\"data/USairport500.txt\", nodetype=int)\n",
    "G.remove_edges_from(nx.selfloop_edges(G))\n",
    "Gcc = sorted(nx.connected_components(G), key=len, reverse=True)\n",
    "G = G.subgraph(Gcc[0])\n",
    "G = nx.convert_node_labels_to_integers(G, first_label=0)"
   ]
  },
  {
   "cell_type": "code",
   "execution_count": 77,
   "metadata": {},
   "outputs": [],
   "source": [
    "N = len(G)\n",
    "M = G.number_of_edges()\n",
    "if nx.is_connected(G) == True:\n",
    "    D = zeros(shape=(N,N)) # D is the matrix of distances\n",
    "    vl = []\n",
    "    for i in np.arange(0,N):\n",
    "        for j in np.arange(i+1, N):\n",
    "            if(i != j):\n",
    "                aux = nx.shortest_path(G,i,j)\n",
    "                dij = len(aux)-1\n",
    "                D[i][j] = dij\n",
    "                D[j][i] = dij\n",
    "                vl.append(dij)"
   ]
  },
  {
   "cell_type": "code",
   "execution_count": 89,
   "metadata": {},
   "outputs": [
    {
     "name": "stdout",
     "output_type": "stream",
     "text": [
      "Average shortest path length: 2.991\n"
     ]
    }
   ],
   "source": [
    "print(\"Average shortest path length:\", \"%.3f\"%(mean(vl)))"
   ]
  },
  {
   "cell_type": "code",
   "execution_count": 90,
   "metadata": {},
   "outputs": [
    {
     "name": "stdout",
     "output_type": "stream",
     "text": [
      "Average shortest path length: 0.818\n"
     ]
    }
   ],
   "source": [
    "print(\"Average shortest path length:\", \"%.3f\"%(var(vl)))"
   ]
  },
  {
   "cell_type": "markdown",
   "metadata": {},
   "source": [
    "### Questão 3"
   ]
  },
  {
   "cell_type": "code",
   "execution_count": 39,
   "metadata": {},
   "outputs": [],
   "source": [
    "G=nx.read_edgelist(\"data/advogato.txt\", nodetype=int)"
   ]
  },
  {
   "cell_type": "code",
   "execution_count": 41,
   "metadata": {},
   "outputs": [
    {
     "name": "stdout",
     "output_type": "stream",
     "text": [
      "Assortativity =  -0.08\n"
     ]
    }
   ],
   "source": [
    "r=nx.degree_assortativity_coefficient(G)\n",
    "print(\"Assortativity = \",\"%.2f\"%r)"
   ]
  },
  {
   "cell_type": "markdown",
   "metadata": {},
   "source": [
    "### Questão 4"
   ]
  },
  {
   "cell_type": "code",
   "execution_count": 98,
   "metadata": {},
   "outputs": [],
   "source": [
    "G=nx.read_edgelist(\"data/USairport500.txt\", nodetype=int)\n",
    "G.remove_edges_from(nx.selfloop_edges(G))\n",
    "Gcc = sorted(nx.connected_components(G), key=len, reverse=True)\n",
    "G = G.subgraph(Gcc[0])\n",
    "G = nx.convert_node_labels_to_integers(G, first_label=0)"
   ]
  },
  {
   "cell_type": "code",
   "execution_count": 102,
   "metadata": {},
   "outputs": [
    {
     "name": "stdout",
     "output_type": "stream",
     "text": [
      "Shannon Entropy =  1.88\n"
     ]
    }
   ],
   "source": [
    "def _distribution(G):\n",
    "    N = len(G)\n",
    "    if nx.is_connected(G) == True:\n",
    "        D = zeros(shape=(N,N)) # D is the matrix of distances\n",
    "        vl = []\n",
    "        for i in np.arange(0,N):\n",
    "            for j in np.arange(i+1, N):\n",
    "                if(i != j):\n",
    "                    aux = nx.shortest_path(G,i,j)\n",
    "                    dij = len(aux)-1\n",
    "                    D[i][j] = dij\n",
    "                    D[j][i] = dij\n",
    "                    vl.append(dij)\n",
    "    vk = vl\n",
    "    #vk = list(vk.values())  # we get only the degree values\n",
    "    vk = np.array(vk)\n",
    "    maxk = np.max(vk)\n",
    "    mink = np.min(vk)\n",
    "    kvalues= np.arange(0,maxk+1) # possible values of k\n",
    "    Pk = np.zeros(maxk+1) # P(k)\n",
    "    for k in vk:\n",
    "        Pk[k] = Pk[k] + 1\n",
    "    Pk = Pk/sum(Pk) # the sum of the elements of P(k) must to be equal to one\n",
    "    return kvalues,Pk\n",
    "\n",
    "def shannon_entropy(G):\n",
    "    k,Pk = _distribution(G)\n",
    "    H = 0\n",
    "    for p in Pk:\n",
    "        if(p > 0):\n",
    "            H = H - p*math.log(p, 2)\n",
    "    return H\n",
    "\n",
    "H = shannon_entropy(G)\n",
    "print(\"Shannon Entropy = \", \"%3.2f\"%H)"
   ]
  },
  {
   "cell_type": "markdown",
   "metadata": {},
   "source": [
    "### Questão 5"
   ]
  },
  {
   "cell_type": "code",
   "execution_count": 6,
   "metadata": {},
   "outputs": [],
   "source": [
    "G=nx.read_edgelist(\"data/word_adjacencies.txt\", nodetype=int)\n",
    "G = G.to_undirected()\n",
    "G.remove_edges_from(nx.selfloop_edges(G))\n",
    "Gcc = sorted(nx.connected_components(G), key=len, reverse=True)\n",
    "G = G.subgraph(Gcc[0])\n",
    "G = nx.convert_node_labels_to_integers(G, first_label=0)"
   ]
  },
  {
   "cell_type": "code",
   "execution_count": 7,
   "metadata": {},
   "outputs": [
    {
     "name": "stdout",
     "output_type": "stream",
     "text": [
      "Pearsons correlation: -0.129\n"
     ]
    }
   ],
   "source": [
    "ki = []\n",
    "kj = []\n",
    "for i in range(0,len(G.nodes())):\n",
    "    for j in range(0, len(G.nodes())):\n",
    "        if(G.has_edge(i,j) == True):\n",
    "            ki.append(G.degree(i))\n",
    "            kj.append(G.degree(j))\n",
    "            \n",
    "from scipy.stats import pearsonr\n",
    "# calculate Pearson's correlation\n",
    "corr, _ = pearsonr(ki, kj)\n",
    "print('Pearsons correlation: %.3f' % corr)"
   ]
  },
  {
   "cell_type": "code",
   "execution_count": 9,
   "metadata": {},
   "outputs": [
    {
     "ename": "TypeError",
     "evalue": "only integer scalar arrays can be converted to a scalar index",
     "output_type": "error",
     "traceback": [
      "\u001b[0;31m---------------------------------------------------------------------------\u001b[0m",
      "\u001b[0;31mTypeError\u001b[0m                                 Traceback (most recent call last)",
      "Cell \u001b[0;32mIn[9], line 7\u001b[0m\n\u001b[1;32m      5\u001b[0m \u001b[38;5;28;01mfor\u001b[39;00m k \u001b[38;5;129;01min\u001b[39;00m arange(np\u001b[38;5;241m.\u001b[39mmin(vk), np\u001b[38;5;241m.\u001b[39mmax(vk)\u001b[38;5;241m+\u001b[39m\u001b[38;5;241m1\u001b[39m):\n\u001b[1;32m      6\u001b[0m     aux \u001b[38;5;241m=\u001b[39m vk \u001b[38;5;241m==\u001b[39m k\n\u001b[0;32m----> 7\u001b[0m     \u001b[38;5;28;01mif\u001b[39;00m(\u001b[38;5;28mlen\u001b[39m(\u001b[43mknn\u001b[49m\u001b[43m[\u001b[49m\u001b[43maux\u001b[49m\u001b[43m]\u001b[49m) \u001b[38;5;241m>\u001b[39m \u001b[38;5;241m0\u001b[39m):\n\u001b[1;32m      8\u001b[0m         av_knn \u001b[38;5;241m=\u001b[39m mean(knn[aux]) \u001b[38;5;66;03m#average clustering among all the nodes with degree k\u001b[39;00m\n\u001b[1;32m      9\u001b[0m         knnk\u001b[38;5;241m.\u001b[39mappend(av_knn)\n",
      "\u001b[0;31mTypeError\u001b[0m: only integer scalar arrays can be converted to a scalar index"
     ]
    }
   ],
   "source": [
    "vk = dict(G.degree())\n",
    "vk = list(vk.values())\n",
    "knn = list()\n",
    "ks = list()\n",
    "for k in arange(np.min(vk), np.max(vk)+1):\n",
    "    aux = vk == k\n",
    "    if(len(knn[aux]) > 0):\n",
    "        av_knn = mean(knn[aux]) #average clustering among all the nodes with degree k\n",
    "        knnk.append(av_knn)\n",
    "        ks.append(k)\n",
    "rho = corrcoef(ks, knnk)[0,1]\n",
    "print('Pearson correlation coefficient:', rho)"
   ]
  },
  {
   "cell_type": "code",
   "execution_count": null,
   "metadata": {},
   "outputs": [],
   "source": []
  }
 ],
 "metadata": {
  "kernelspec": {
   "display_name": "Python 3 (ipykernel)",
   "language": "python",
   "name": "python3"
  },
  "language_info": {
   "codemirror_mode": {
    "name": "ipython",
    "version": 3
   },
   "file_extension": ".py",
   "mimetype": "text/x-python",
   "name": "python",
   "nbconvert_exporter": "python",
   "pygments_lexer": "ipython3",
   "version": "3.11.3"
  }
 },
 "nbformat": 4,
 "nbformat_minor": 4
}
