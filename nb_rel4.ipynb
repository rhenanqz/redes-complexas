{
 "cells": [
  {
   "cell_type": "markdown",
   "metadata": {},
   "source": [
    "# SME5924 - Processos Dinâmicos em Redes Complexas (2023)\n",
    "\n",
    "### Aluno: Rhenan Gomes dos Santos Queiroz\n",
    "### NUSP: 7593499"
   ]
  },
  {
   "cell_type": "code",
   "execution_count": 1,
   "metadata": {},
   "outputs": [],
   "source": [
    "from numpy  import *\n",
    "import numpy as np\n",
    "import matplotlib.pyplot as plt\n",
    "import networkx as nx"
   ]
  },
  {
   "cell_type": "markdown",
   "metadata": {},
   "source": [
    "## Questão 1"
   ]
  },
  {
   "cell_type": "code",
   "execution_count": 9,
   "metadata": {},
   "outputs": [],
   "source": [
    "G=nx.read_edgelist(\"data/jazz.txt\", nodetype=int)\n",
    "G = G.to_undirected()\n",
    "G.remove_edges_from(nx.selfloop_edges(G))\n",
    "Gcc = sorted(nx.connected_components(G), key=len, reverse=True)\n",
    "G = G.subgraph(Gcc[0])\n",
    "G = nx.convert_node_labels_to_integers(G, first_label=0)"
   ]
  },
  {
   "cell_type": "code",
   "execution_count": 12,
   "metadata": {},
   "outputs": [
    {
     "name": "stdout",
     "output_type": "stream",
     "text": [
      "Modularity Q =  0.4389078153753761\n"
     ]
    }
   ],
   "source": [
    "from networkx.algorithms.community import greedy_modularity_communities\n",
    "\n",
    "\n",
    "\n",
    "c = list(greedy_modularity_communities(G))\n",
    "communities = np.zeros(len(G.nodes()))\n",
    "nc = 0\n",
    "for k in range(0,len(c)):\n",
    "    communities[sorted(c[k])]=nc\n",
    "    nc = nc+1\n",
    "def modularity(G, c):\n",
    "    A = nx.adjacency_matrix(G)\n",
    "    N = len(G)\n",
    "    M = G.number_of_edges()\n",
    "    Q = 0\n",
    "    for i in np.arange(0,N):\n",
    "        ki = len(list(G.neighbors(i)))\n",
    "        for j in np.arange(0,N):\n",
    "            if(c[i]==c[j]):\n",
    "                kj = len(list(G.neighbors(j)))\n",
    "                Q = Q + A[i,j]-(ki*kj)/(2*M)\n",
    "    Q = Q/(2*M)\n",
    "    return Q\n",
    "print(\"Modularity Q = \", modularity(G,communities))"
   ]
  },
  {
   "cell_type": "markdown",
   "metadata": {},
   "source": [
    "## Questão 2"
   ]
  },
  {
   "cell_type": "code",
   "execution_count": 11,
   "metadata": {},
   "outputs": [
    {
     "name": "stdout",
     "output_type": "stream",
     "text": [
      "Modularity Q =  0.4450268029905635\n"
     ]
    }
   ],
   "source": [
    "from community import community_louvain\n",
    "communities =community_louvain.best_partition(G)\n",
    "print(\"Modularity Q = \", modularity(G,communities))"
   ]
  },
  {
   "cell_type": "markdown",
   "metadata": {},
   "source": [
    "## Questão 3"
   ]
  },
  {
   "cell_type": "code",
   "execution_count": 16,
   "metadata": {},
   "outputs": [
    {
     "name": "stdout",
     "output_type": "stream",
     "text": [
      "mu 0.05 Modularity Q =  0.643639535397838\n",
      "mu 0.1 Modularity Q =  0.5427818606053953\n",
      "mu 0.2 Modularity Q =  0.44487909975820294\n"
     ]
    }
   ],
   "source": [
    "for mu in [0.05,0.1,0.2]:\n",
    "    N = 128\n",
    "    tau1 = 3\n",
    "    tau2 = 1.5\n",
    "    k =16\n",
    "    minc = 32\n",
    "    maxc = 32\n",
    "    G = nx.LFR_benchmark_graph(n = N, tau1 = tau1, tau2 = tau2, mu = mu, min_degree = k, \n",
    "                            max_degree = k, min_community=minc, max_community = maxc, seed = 10)\n",
    "    communities =community_louvain.best_partition(G)\n",
    "    print(\"mu\",mu , \"Modularity Q = \", modularity(G,communities))"
   ]
  },
  {
   "attachments": {},
   "cell_type": "markdown",
   "metadata": {},
   "source": [
    "## Questão 4"
   ]
  },
  {
   "cell_type": "code",
   "execution_count": 17,
   "metadata": {},
   "outputs": [
    {
     "name": "stdout",
     "output_type": "stream",
     "text": [
      "mu 0.05 Modularity Q =  0.643639535397838\n",
      "mu 0.2 Modularity Q =  0.44487909975820294\n",
      "mu 0.4 Modularity Q =  0.19128887144357837\n"
     ]
    }
   ],
   "source": [
    "for mu in [0.05,0.2,0.4]:\n",
    "    N = 128\n",
    "    tau1 = 3\n",
    "    tau2 = 1.5\n",
    "    k =16\n",
    "    minc = 32\n",
    "    maxc = 32\n",
    "    G = nx.LFR_benchmark_graph(n = N, tau1 = tau1, tau2 = tau2, mu = mu, min_degree = k, \n",
    "                            max_degree = k, min_community=minc, max_community = maxc, seed = 10)\n",
    "    communities =community_louvain.best_partition(G)\n",
    "    print(\"mu\",mu , \"Modularity Q = \", modularity(G,communities))"
   ]
  }
 ],
 "metadata": {
  "kernelspec": {
   "display_name": "Python 3 (ipykernel)",
   "language": "python",
   "name": "python3"
  },
  "language_info": {
   "codemirror_mode": {
    "name": "ipython",
    "version": 3
   },
   "file_extension": ".py",
   "mimetype": "text/x-python",
   "name": "python",
   "nbconvert_exporter": "python",
   "pygments_lexer": "ipython3",
   "version": "3.11.3"
  },
  "vscode": {
   "interpreter": {
    "hash": "17b1be10d9adf213d72ba90be5027b9bbf092f77198be05c204cdbab14fb982d"
   }
  }
 },
 "nbformat": 4,
 "nbformat_minor": 4
}
