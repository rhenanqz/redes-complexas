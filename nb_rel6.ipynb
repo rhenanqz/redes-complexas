{
 "cells": [
  {
   "cell_type": "markdown",
   "metadata": {},
   "source": [
    "# SME5924 - Processos Dinâmicos em Redes Complexas (2023)\n",
    "\n",
    "### Aluno: Rhenan Gomes dos Santos Queiroz\n",
    "### NUSP: 7593499"
   ]
  },
  {
   "cell_type": "code",
   "execution_count": 24,
   "metadata": {},
   "outputs": [],
   "source": [
    "from numpy  import *\n",
    "import numpy as np\n",
    "import matplotlib.pyplot as plt\n",
    "import networkx as nx\n",
    "import pandas as pd"
   ]
  },
  {
   "cell_type": "markdown",
   "metadata": {},
   "source": [
    "## Questão 1"
   ]
  },
  {
   "cell_type": "code",
   "execution_count": 10,
   "metadata": {},
   "outputs": [],
   "source": [
    "N = 1000\n",
    "av_degree = 10\n",
    "m = int(av_degree/2)\n",
    "GBA = nx.barabasi_albert_graph(N, m)\n"
   ]
  },
  {
   "cell_type": "code",
   "execution_count": 13,
   "metadata": {},
   "outputs": [
    {
     "name": "stdout",
     "output_type": "stream",
     "text": [
      "Second momment of P(k): 205\n",
      "Average clustering: 0.04\n"
     ]
    }
   ],
   "source": [
    "def degree_distribution(G):\n",
    "    vk = dict(G.degree())\n",
    "    vk = list(vk.values()) # we get only the degree values\n",
    "    maxk = np.max(vk)\n",
    "    mink = np.min(min)\n",
    "    kvalues= arange(0,maxk+1) # possible values of k\n",
    "    Pk = np.zeros(maxk+1) # P(k)\n",
    "    for k in vk:\n",
    "        Pk[k] = Pk[k] + 1\n",
    "    Pk = Pk/sum(Pk) # the sum of the elements of P(k) must to be equal to one\n",
    "    return kvalues,Pk\n",
    "\n",
    "\n",
    "def momment_of_degree_distribution(G,m):\n",
    "    k,Pk = degree_distribution(G)\n",
    "    M = sum((k**m)*Pk)\n",
    "    return M\n",
    "\n",
    "k2 = momment_of_degree_distribution(GBA,2)\n",
    "print('Second momment of P(k):', \"%3.0f\"%k2)\n",
    "\n",
    "avc = nx.average_clustering(GBA)\n",
    "print(\"Average clustering:\", \"%3.2f\"%avc)"
   ]
  },
  {
   "cell_type": "markdown",
   "metadata": {},
   "source": [
    "## Questão 2"
   ]
  },
  {
   "cell_type": "code",
   "execution_count": 16,
   "metadata": {},
   "outputs": [
    {
     "name": "stdout",
     "output_type": "stream",
     "text": [
      "Shannon Entropy GER =  3.6\n",
      "Shannon Entropy GBA =  3.6\n"
     ]
    }
   ],
   "source": [
    "def shannon_entropy(G):\n",
    "    k,Pk = degree_distribution(G)\n",
    "    H = 0\n",
    "    for p in Pk:\n",
    "        if(p > 0):\n",
    "            H = H - p*math.log(p, 2)\n",
    "    return H\n",
    "\n",
    "N = 1000\n",
    "av_degree = 10\n",
    "\n",
    "p = av_degree/(N-1)\n",
    "GER = nx.erdos_renyi_graph(N, p, seed=None, directed=False)\n",
    "H = shannon_entropy(GER)\n",
    "print(\"Shannon Entropy GER = \", \"%3.1f\"%H)\n",
    "\n",
    "m = int(av_degree/2)\n",
    "GBA = nx.barabasi_albert_graph(N, m)\n",
    "H = shannon_entropy(GBA)\n",
    "print(\"Shannon Entropy GBA = \", \"%3.1f\"%H)"
   ]
  },
  {
   "cell_type": "markdown",
   "metadata": {},
   "source": [
    "## Questão 3"
   ]
  },
  {
   "cell_type": "code",
   "execution_count": 29,
   "metadata": {},
   "outputs": [
    {
     "name": "stdout",
     "output_type": "stream",
     "text": [
      "Correlacao Eigenvector Grau =  0.94\n"
     ]
    }
   ],
   "source": [
    "N = 1000\n",
    "av_degree = 10\n",
    "m = int(av_degree/2)\n",
    "GBA = nx.barabasi_albert_graph(N, m)\n",
    "\n",
    "EC = dict(nx.eigenvector_centrality(GBA, max_iter = 1000))\n",
    "EC = list(EC.values())\n",
    "\n",
    "vk = dict(GBA.degree())\n",
    "vk = list(vk.values())\n",
    "\n",
    "df = pd.DataFrame({'K':vk,'EC':EC})\n",
    "corr = df.corr(method='pearson')\n",
    "corr2 = corr['K']['EC']\n",
    "print(\"Correlacao Eigenvector Grau = \", \"%3.2f\"%corr2)\n"
   ]
  },
  {
   "attachments": {},
   "cell_type": "markdown",
   "metadata": {},
   "source": [
    "## Questão 4"
   ]
  },
  {
   "cell_type": "code",
   "execution_count": 31,
   "metadata": {},
   "outputs": [
    {
     "name": "stdout",
     "output_type": "stream",
     "text": [
      "Correlacao BetweenC Grau =  0.96\n"
     ]
    }
   ],
   "source": [
    "N = 500\n",
    "av_degree = 10\n",
    "m = int(av_degree/2)\n",
    "GBA = nx.barabasi_albert_graph(N, m)\n",
    "\n",
    "BC = dict(nx.betweenness_centrality(GBA))\n",
    "BC = list(BC.values())\n",
    "\n",
    "vk = dict(GBA.degree())\n",
    "vk = list(vk.values())\n",
    "\n",
    "df = pd.DataFrame({'K':vk,'EC':BC})\n",
    "corr = df.corr(method='pearson')\n",
    "corr2 = corr['K']['EC']\n",
    "print(\"Correlacao BetweenC Grau = \", \"%3.2f\"%corr2)"
   ]
  },
  {
   "cell_type": "markdown",
   "metadata": {},
   "source": [
    "## Questão 5"
   ]
  },
  {
   "cell_type": "code",
   "execution_count": 35,
   "metadata": {},
   "outputs": [
    {
     "name": "stdout",
     "output_type": "stream",
     "text": [
      "Second momment of P(k):  13\n"
     ]
    }
   ],
   "source": [
    "from random import *\n",
    "import networkx as nx\n",
    "N = 500\n",
    "a = 3\n",
    "seq = np.random.zipf(a, N)\n",
    "if(sum(seq)%2 != 0): # the sum of stubs have to be even\n",
    "    pos = randint(0, len(seq))\n",
    "    seq[pos] = seq[pos]+ 1\n",
    "G0=nx.configuration_model(seq)\n",
    "Gcc = sorted(nx.connected_components(G0), key=len, reverse=True)\n",
    "G = G0.subgraph(Gcc[0])\n",
    "\n",
    "k2 = momment_of_degree_distribution(G,2)\n",
    "print('Second momment of P(k):', \"%3.0f\"%k2)"
   ]
  }
 ],
 "metadata": {
  "kernelspec": {
   "display_name": "py3104",
   "language": "python",
   "name": "python3"
  },
  "language_info": {
   "codemirror_mode": {
    "name": "ipython",
    "version": 3
   },
   "file_extension": ".py",
   "mimetype": "text/x-python",
   "name": "python",
   "nbconvert_exporter": "python",
   "pygments_lexer": "ipython3",
   "version": "3.10.4"
  },
  "orig_nbformat": 4,
  "vscode": {
   "interpreter": {
    "hash": "17b1be10d9adf213d72ba90be5027b9bbf092f77198be05c204cdbab14fb982d"
   }
  }
 },
 "nbformat": 4,
 "nbformat_minor": 2
}
